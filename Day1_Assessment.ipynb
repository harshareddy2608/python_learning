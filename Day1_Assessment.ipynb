{
  "nbformat": 4,
  "nbformat_minor": 0,
  "metadata": {
    "colab": {
      "provenance": [],
      "include_colab_link": true
    },
    "kernelspec": {
      "name": "python3",
      "display_name": "Python 3"
    },
    "language_info": {
      "name": "python"
    }
  },
  "cells": [
    {
      "cell_type": "markdown",
      "metadata": {
        "id": "view-in-github",
        "colab_type": "text"
      },
      "source": [
        "<a href=\"https://colab.research.google.com/github/harshareddy2608/python_learning/blob/main/Day1_Assessment.ipynb\" target=\"_parent\"><img src=\"https://colab.research.google.com/assets/colab-badge.svg\" alt=\"Open In Colab\"/></a>"
      ]
    },
    {
      "cell_type": "markdown",
      "source": [
        "## how would you confimm that two strings have the same identity?"
      ],
      "metadata": {
        "id": "eh5Ph74_HqpD"
      }
    },
    {
      "cell_type": "code",
      "source": [
        "#test case 1\n",
        "string1 = \"Welcome\"\n",
        "string2 = \"Hello\"\n",
        "\n",
        "if string1 is string2:\n",
        "  print(\"The above two strings(1&2) have the same identity.\\n\")\n",
        "else:\n",
        "  print(\"The above two strings(1&2) do not have the same identity.\\n\")\n",
        "\n",
        "#test case 2\n",
        "string3 = \"Welcome\"\n",
        "string4 = \"Welcome\"\n",
        "\n",
        "if string3 is string4:\n",
        "  print(\"The above two strings(3&4) have the same identity.\")\n",
        "else:\n",
        "  print(\"The above two strings(3&4) do not have the same identity.\")"
      ],
      "metadata": {
        "id": "oERbt__VktUg",
        "colab": {
          "base_uri": "https://localhost:8080/"
        },
        "outputId": "4fdb09e1-cf2c-4e26-d83e-5fd2a38f7fbf"
      },
      "execution_count": null,
      "outputs": [
        {
          "output_type": "stream",
          "name": "stdout",
          "text": [
            "The above two strings(1&2) do not have the same identity.\n",
            "\n",
            "The above two strings(3&4) have the same identity.\n"
          ]
        }
      ]
    },
    {
      "cell_type": "markdown",
      "source": [
        "## How to find the length and index of the string?"
      ],
      "metadata": {
        "id": "duytPz1XIvDx"
      }
    },
    {
      "cell_type": "code",
      "source": [
        "string=\"how is your day\"\n",
        "print(\"the length of the string:\",len(string))\n",
        "y=string.index('is')\n",
        "print(\"\\nthe index of substring is:\",y)"
      ],
      "metadata": {
        "id": "cuEJ9hZ_S4df",
        "colab": {
          "base_uri": "https://localhost:8080/"
        },
        "outputId": "25288c6d-4d70-42fc-9a06-a3dd8298c5ab"
      },
      "execution_count": null,
      "outputs": [
        {
          "output_type": "stream",
          "name": "stdout",
          "text": [
            "the length of the string: 15\n",
            "\n",
            "the index of substring is: 4\n"
          ]
        }
      ]
    },
    {
      "cell_type": "markdown",
      "source": [
        "## how to check a string contain a specific substring"
      ],
      "metadata": {
        "id": "EGK-LzalIO_i"
      }
    },
    {
      "cell_type": "code",
      "source": [
        "string1=\"welcome to python programming\"\n",
        "str_sub=\"programming\"\n",
        "if str_sub in string1:\n",
        "  print(f'\"{string1}\" contains \"{str_sub}\"')\n",
        "else:\n",
        "  print(f'\"{string1}\" does not contain \"{str_sub}\"')"
      ],
      "metadata": {
        "id": "g1HYIC9gJ7Vi",
        "colab": {
          "base_uri": "https://localhost:8080/"
        },
        "outputId": "f01314af-9c89-433d-a413-c17db9d50240"
      },
      "execution_count": null,
      "outputs": [
        {
          "output_type": "stream",
          "name": "stdout",
          "text": [
            "\"welcome to python programming\" contains \"programming\"\n"
          ]
        }
      ]
    },
    {
      "cell_type": "markdown",
      "source": [
        "## how to a take a string from backward with two step difference?\n"
      ],
      "metadata": {
        "id": "LmY6RXjoJF9h"
      }
    },
    {
      "cell_type": "code",
      "source": [
        "str1 = \"jai Telangana\"\n",
        "final_str = str1[::-2] #-2 used for printing the string from backward with two step difference where - indicates in backward(or)reverse direction\n",
        "print(\"The entered string is:\", str1)\n",
        "print(\"\\nfinal string with backward two_step difference is:\", final_str)"
      ],
      "metadata": {
        "id": "_C_pqVqBJ8AA",
        "colab": {
          "base_uri": "https://localhost:8080/"
        },
        "outputId": "65270695-4f71-4763-df11-282b62eabecd"
      },
      "execution_count": null,
      "outputs": [
        {
          "output_type": "stream",
          "name": "stdout",
          "text": [
            "The entered string is: jai Telangana\n",
            "\n",
            "final string with backward two_step difference is: aanlTij\n"
          ]
        }
      ]
    },
    {
      "cell_type": "markdown",
      "source": [
        "## how to find the index of the last element"
      ],
      "metadata": {
        "id": "7eg6JfyuJr_2"
      }
    },
    {
      "cell_type": "code",
      "source": [
        "str1= \"The team Data warriors\"\n",
        "# Finding the index value of last element of the string!\n",
        "lst_index = len(str1) - 1\n",
        "print(\"Index of the last element:\",lst_index)"
      ],
      "metadata": {
        "id": "T84ODp77J8zR",
        "colab": {
          "base_uri": "https://localhost:8080/"
        },
        "outputId": "31c33d1c-dd03-41ae-b75f-c14b5bc540c8"
      },
      "execution_count": null,
      "outputs": [
        {
          "output_type": "stream",
          "name": "stdout",
          "text": [
            "Index of the last element: 21\n"
          ]
        }
      ]
    },
    {
      "cell_type": "markdown",
      "source": [
        "## Write 2 ways to concatinate the string"
      ],
      "metadata": {
        "id": "FTdxvLc1J0lv"
      }
    },
    {
      "cell_type": "code",
      "source": [
        "# by using + operator\n",
        "str1= \"hello everyone\"\n",
        "str2= \" welcome to my kingdom\"\n",
        "\n",
        "print(\"concatenation of two strings using + operator=\",str1 + str2)\n",
        "\n",
        "\n",
        "# by using join()\n",
        "str3= \"no money no honey,But\"\n",
        "str4= \" health is wealth\"\n",
        "\n",
        "print('\\nConcatenation of two Strings using join() =', \"\".join([str3, str4]))\n"
      ],
      "metadata": {
        "id": "j8P9ODeTJ9Zz",
        "colab": {
          "base_uri": "https://localhost:8080/"
        },
        "outputId": "d10f7773-469e-46c5-d0cf-b1ffa964f89c"
      },
      "execution_count": null,
      "outputs": [
        {
          "output_type": "stream",
          "name": "stdout",
          "text": [
            "concatenation of two strings using + operator= hello everyone welcome to my kingdom\n",
            "\n",
            "Concatenation of two Strings using join() = no money no honey,But health is wealth\n"
          ]
        }
      ]
    },
    {
      "cell_type": "code",
      "source": [],
      "metadata": {
        "id": "Y6L3GZtpORHf"
      },
      "execution_count": null,
      "outputs": []
    }
  ]
}