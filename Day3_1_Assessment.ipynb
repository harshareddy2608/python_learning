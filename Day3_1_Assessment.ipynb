{
  "nbformat": 4,
  "nbformat_minor": 0,
  "metadata": {
    "colab": {
      "provenance": [],
      "include_colab_link": true
    },
    "kernelspec": {
      "name": "python3",
      "display_name": "Python 3"
    },
    "language_info": {
      "name": "python"
    }
  },
  "cells": [
    {
      "cell_type": "markdown",
      "metadata": {
        "id": "view-in-github",
        "colab_type": "text"
      },
      "source": [
        "<a href=\"https://colab.research.google.com/github/harshareddy2608/python_learning/blob/main/Day3_1_Assessment.ipynb\" target=\"_parent\"><img src=\"https://colab.research.google.com/assets/colab-badge.svg\" alt=\"Open In Colab\"/></a>"
      ]
    },
    {
      "cell_type": "markdown",
      "source": [],
      "metadata": {
        "id": "KZ91_NegViLz"
      }
    },
    {
      "cell_type": "markdown",
      "source": [
        "## problem 1\n",
        "Create a dictionary where the keys correspond to the area of a flat adn value for each is the price of the house for 10 flat in kompally"
      ],
      "metadata": {
        "id": "B1Fhdmi9V3LI"
      }
    },
    {
      "cell_type": "code",
      "source": [
        "# Dictionary of house area and house prices of 10 houses in\n",
        "house_prices = {\n",
        "    '500 sqft': 5000000,\n",
        "    '600 sqft': 6000000,\n",
        "    '700 sqft': 7000000,\n",
        "    '800 sqft': 8000000,\n",
        "    '900 sqft': 9000000,\n",
        "    '1000 sqft': 10000000,\n",
        "    '1100 sqft': 11000000,\n",
        "    '1200 sqft': 12000000,\n",
        "    '1300 sqft': 13000000,\n",
        "    '1400 sqft': 14000000\n",
        "}\n",
        "print(house_prices)"
      ],
      "metadata": {
        "id": "zihWmw3NWXQX",
        "colab": {
          "base_uri": "https://localhost:8080/"
        },
        "outputId": "55d786e5-9b4d-4028-a901-7986661fcd1a"
      },
      "execution_count": 3,
      "outputs": [
        {
          "output_type": "stream",
          "name": "stdout",
          "text": [
            "{'500 sqft': 5000000, '600 sqft': 6000000, '700 sqft': 7000000, '800 sqft': 8000000, '900 sqft': 9000000, '1000 sqft': 10000000, '1100 sqft': 11000000, '1200 sqft': 12000000, '1300 sqft': 13000000, '1400 sqft': 14000000}\n"
          ]
        }
      ]
    },
    {
      "cell_type": "markdown",
      "source": [
        "### Now broker predicts the price as can be written as : <b><code>predicted_price(area) = 0.06*area + 15</code></b>"
      ],
      "metadata": {
        "id": "JI2jaDf8Wp2D"
      }
    },
    {
      "cell_type": "markdown",
      "source": [
        "Using the concept of list comprehension,create a list of predicted flat price using the above formula\n"
      ],
      "metadata": {
        "id": "v_K_Z8dtW6-D"
      }
    },
    {
      "cell_type": "code",
      "source": [
        "# Create a list of house areas\n",
        "l=[1200,1300,1500,1430,1700,1600,1800,1630,1400,1650]\n",
        "# Use list comprehension to store the predicted house prices in a list\n",
        "predicted_prices = [0.06 * area + 15 for area in l ]\n",
        "# Print the list of predicted flat prices\n",
        "print( predicted_prices)"
      ],
      "metadata": {
        "id": "F732P6DHXVYH",
        "colab": {
          "base_uri": "https://localhost:8080/"
        },
        "outputId": "8a12a8d6-bdda-4f81-ffb1-4101d293bdbf"
      },
      "execution_count": 5,
      "outputs": [
        {
          "output_type": "stream",
          "name": "stdout",
          "text": [
            "[87.0, 93.0, 105.0, 100.8, 117.0, 111.0, 123.0, 112.8, 99.0, 114.0]\n"
          ]
        }
      ]
    },
    {
      "cell_type": "markdown",
      "source": [
        "## Create another list which contains the squares of differences of each element of the two price lists : the actual prices and the predicted prices\n"
      ],
      "metadata": {
        "id": "-ZrRO78DXZq6"
      }
    },
    {
      "cell_type": "code",
      "source": [
        "actual_prices = [120000,125000,135000,130000,178000,166000,180000,167000,128000,170000]\n",
        "pred_prices=[87.0, 93.0, 105.0, 100.8, 117.0, 111.0, 123.0, 112.8, 99.0, 114.0]\n",
        "# Squares of differences between actual and predicted prices\n",
        "squares_of_differences = [(actual - predicted) ** 2 for actual, predicted in zip(actual_prices, predicted_prices)]\n",
        "# Print the results\n",
        "print(\"Squares of Differences:\", squares_of_differences)"
      ],
      "metadata": {
        "id": "dEpxZqK7XzeD",
        "colab": {
          "base_uri": "https://localhost:8080/"
        },
        "outputId": "6b2a01bc-9a52-4099-80c8-4e9f10901e21"
      },
      "execution_count": 6,
      "outputs": [
        {
          "output_type": "stream",
          "name": "stdout",
          "text": [
            "Squares of Differences: [14379127569.0, 15601758649.0, 18196661025.0, 16873802160.64, 31642361689.0, 27519160321.0, 32355735129.0, 27851337523.840004, 16358665801.0, 28861252996.0]\n"
          ]
        }
      ]
    },
    {
      "cell_type": "markdown",
      "source": [
        "## <u> Problem 2</u>\n",
        "\n",
        "## A sigmoid function is a mathematical function having a characteristic \"S\"-shaped curve or sigmoid curve. A common example of a sigmoid function is the logistic function shown in the first figure and defined by the formula:\n",
        "\n",
        "$$ h(x) =  \\frac{\\mathrm{1} }{\\mathrm{1} + e^{-x} }  $$\n",
        "\n",
        "\n",
        "## Range is defined as all the possible values which the function $h(x)$ can take. Domain is defined as all the possible values which $x$ can take. In this case, range of the function is between 0 to 1 and the domain of the function is all real numbers"
      ],
      "metadata": {
        "id": "PEC_OtXRXrCg"
      }
    },
    {
      "cell_type": "markdown",
      "source": [
        "### You are given a list of values of $x$. You need to use list comprehension to calculate the corresponding transformation according to the sigmoid function defined above"
      ],
      "metadata": {
        "id": "YZCTres_XsB0"
      }
    },
    {
      "cell_type": "code",
      "source": [
        "# Return a list of boolean values if the sigmoid_of_x is greater than or equal to 0 and less than or equal to 1\n",
        "from math import exp\n",
        "l = [2,7,3,9,3,-1,-2]\n",
        "m = [1 / (1 + exp(-x)) for x in l]\n",
        "boolean = [True if (x >= 0 and x <= 1) else False for x in m]\n",
        "# Create a list of those values which are greater than 0.5\n",
        "result = [x for x in m if x > 0.5]\n",
        "print(boolean)\n",
        "print(result)"
      ],
      "metadata": {
        "id": "TmYb4SluYC4S"
      },
      "execution_count": null,
      "outputs": []
    },
    {
      "cell_type": "markdown",
      "source": [
        "# <u> Problem 3</u>\n",
        "\n",
        "## You are given a sentence : <code>\"I have been walking and running and dancing and smiling and laughing all my life, yet it all seems pointless. So i stoped thinking and started doing\"</code>\n",
        "\n",
        "## You are required to extract all those words from this sentence in a list which ends with <code>ing</code>"
      ],
      "metadata": {
        "id": "j31JnVUtYNU-"
      }
    },
    {
      "cell_type": "code",
      "source": [
        "s=\"I have been walking and running and dancing and smiling and laughing all my life, yet it all seems pointless. So i stoped thinking and started doing\"\n",
        "words=s.split()\n",
        "result = [word.strip(\",.\") for word in words if word.endswith(\"ing\")]\n",
        "print(result)"
      ],
      "metadata": {
        "id": "8s6rFnH2YO1z",
        "colab": {
          "base_uri": "https://localhost:8080/"
        },
        "outputId": "f6ffc660-9bdd-4808-ce17-8723753c1cb0"
      },
      "execution_count": 7,
      "outputs": [
        {
          "output_type": "stream",
          "name": "stdout",
          "text": [
            "['walking', 'running', 'dancing', 'smiling', 'laughing', 'thinking', 'doing']\n"
          ]
        }
      ]
    },
    {
      "cell_type": "markdown",
      "source": [
        "# <u> Problem 4</u>\n",
        "\n",
        "#### Natural Language Processing or NLP is one of the most promising fields in Machine Learning. Most of the times in NLP we deal with the textual data (a bunch of strings). Sometimes when we are processing the text, it is a common practice to get rid of some set of stop words from our original text. By default stop words are very common words used in English language such as and, or, punctuations etc.\n",
        "\n",
        "#### In this exercise, you are provided with a default set of stop words and you need to add some extra set of custom words and remove these words from the given sentence and obtain the sentence without the stop words"
      ],
      "metadata": {
        "id": "rYwInhGlYOyz"
      }
    },
    {
      "cell_type": "code",
      "source": [
        "# A sample sentence\n",
        "sen=\"In the heart of the bustling city, there is a quaint coffee shop that exudes warmth and coziness. The aroma of freshly ground coffee beans fills the air, enticing passersby to step inside. Soft jazz music plays in the background, creating a soothing atmosphere. Customers sit comfortably in plush armchairs, sipping on their favorite brews while engrossed in a good book or engaged in friendly conversations. The baristas behind the counter skillfully craft intricate latte art on each cup, adding a touch of creativity to every order. This little haven has become a cherished retreat for those seeking a moment of respite from the fast-paced urban life.\"\n",
        "# Print your sentence\n",
        "print(sen)"
      ],
      "metadata": {
        "id": "b86yHqHEYOpp",
        "colab": {
          "base_uri": "https://localhost:8080/"
        },
        "outputId": "dc2034f5-8765-45d8-b088-f681a68b4578"
      },
      "execution_count": 8,
      "outputs": [
        {
          "output_type": "stream",
          "name": "stdout",
          "text": [
            "In the heart of the bustling city, there is a quaint coffee shop that exudes warmth and coziness. The aroma of freshly ground coffee beans fills the air, enticing passersby to step inside. Soft jazz music plays in the background, creating a soothing atmosphere. Customers sit comfortably in plush armchairs, sipping on their favorite brews while engrossed in a good book or engaged in friendly conversations. The baristas behind the counter skillfully craft intricate latte art on each cup, adding a touch of creativity to every order. This little haven has become a cherished retreat for those seeking a moment of respite from the fast-paced urban life.\n"
          ]
        }
      ]
    },
    {
      "cell_type": "code",
      "source": [
        "# Default set of stop words\n",
        "stop_words = {\"i\", \"me\", \"my\", \"myself\", \"we\", \"our\", \"ours\", \"ourselves\", \"you\", \"your\", \"yours\", \"yourself\",\n",
        "              \"yourselves\", \"he\", \"him\", \"his\", \"himself\", \"she\", \"her\", \"hers\", \"herself\", \"it\", \"its\", \"itself\",\n",
        "              \"they\", \"them\", \"their\", \"theirs\", \"themselves\", \"what\", \"which\", \"who\", \"whom\", \"this\", \"that\",\n",
        "              \"these\", \"those\", \"am\", \"is\", \"are\", \"was\", \"were\", \"be\", \"been\", \"being\", \"have\", \"has\", \"had\",\n",
        "              \"having\", \"do\", \"does\", \"did\", \"doing\", \"a\", \"an\", \"the\", \"and\", \"but\", \"if\", \"or\", \"because\",\n",
        "              \"as\", \"until\", \"while\", \"of\", \"at\", \"by\", \"for\", \"with\", \"about\", \"against\", \"between\", \"into\",\n",
        "              \"through\", \"during\", \"before\", \"after\", \"above\", \"below\", \"to\", \"from\", \"up\", \"down\", \"in\", \"out\",\n",
        "              \"on\", \"off\", \"over\", \"under\", \"again\", \"further\", \"then\", \"once\", \"here\", \"there\", \"when\", \"where\",\n",
        "              \"why\", \"how\", \"all\", \"any\", \"both\", \"each\", \"few\", \"more\", \"most\", \"other\", \"some\", \"such\", \"no\",\n",
        "              \"nor\", \"not\", \"only\", \"own\", \"same\", \"so\", \"than\", \"too\", \"very\", \"s\", \"t\", \"can\", \"will\", \"just\",\n",
        "              \"don\", \"should\", \"now\"}\n",
        "custom_stop_words = [\"hello\",\"folks\",\"good\",\"morning\",\"half\",\"year\"]\n",
        "# Update the set of stop words by adding the custom stop words\n",
        "newstop_words=stop_words.union(custom_stop_words)\n",
        "print(newstop_words)"
      ],
      "metadata": {
        "id": "RbyJscXWYh0z",
        "colab": {
          "base_uri": "https://localhost:8080/"
        },
        "outputId": "5b94674e-d7eb-475d-d3cb-51c4b4eb3b38"
      },
      "execution_count": 12,
      "outputs": [
        {
          "output_type": "stream",
          "name": "stdout",
          "text": [
            "{'has', 'should', 'from', 'by', 'myself', 'an', 'have', 'most', 'do', 'he', 'be', 'both', 'more', 'not', 'why', 'are', 'your', 'themselves', 'own', 't', 'which', 'just', 'if', 'when', 'other', 'were', 'and', 'will', 'at', 'does', 'some', 'yourself', 'again', 'me', 'i', 'ourselves', 'off', 'half', 'while', 'through', 'that', 'don', 'whom', 's', 'because', 'each', 'is', 'been', 'in', 'his', 'once', 'these', 'had', 'now', 'am', 'she', 'hello', 'up', 'below', 'above', 'the', 'such', 'doing', 'having', 'than', 'my', 'any', 'their', 'was', 'year', 'all', 'same', 'hers', 'out', 'with', 'against', 'nor', 'it', 'as', 'until', 'theirs', 'only', 'what', 'yourselves', 'there', 'after', 'few', 'folks', 'of', 'him', 'how', 'here', 'where', 'too', 'morning', 'ours', 'over', 'or', 'they', 'then', 'before', 'for', 'we', 'who', 'into', 'about', 'very', 'can', 'yours', 'further', 'did', 'itself', 'during', 'down', 'to', 'her', 'himself', 'no', 'good', 'them', 'on', 'being', 'but', 'those', 'a', 'between', 'our', 'so', 'this', 'under', 'you', 'its', 'herself'}\n"
          ]
        }
      ]
    },
    {
      "cell_type": "code",
      "source": [
        "# Create the list of words in the given sentence.\n",
        "words=sen.split()\n",
        "print(words)"
      ],
      "metadata": {
        "id": "OG_iCUm9Yyx3",
        "colab": {
          "base_uri": "https://localhost:8080/"
        },
        "outputId": "37c5dfd5-120b-4ce3-ce75-0261bccf789d"
      },
      "execution_count": 13,
      "outputs": [
        {
          "output_type": "stream",
          "name": "stdout",
          "text": [
            "['In', 'the', 'heart', 'of', 'the', 'bustling', 'city,', 'there', 'is', 'a', 'quaint', 'coffee', 'shop', 'that', 'exudes', 'warmth', 'and', 'coziness.', 'The', 'aroma', 'of', 'freshly', 'ground', 'coffee', 'beans', 'fills', 'the', 'air,', 'enticing', 'passersby', 'to', 'step', 'inside.', 'Soft', 'jazz', 'music', 'plays', 'in', 'the', 'background,', 'creating', 'a', 'soothing', 'atmosphere.', 'Customers', 'sit', 'comfortably', 'in', 'plush', 'armchairs,', 'sipping', 'on', 'their', 'favorite', 'brews', 'while', 'engrossed', 'in', 'a', 'good', 'book', 'or', 'engaged', 'in', 'friendly', 'conversations.', 'The', 'baristas', 'behind', 'the', 'counter', 'skillfully', 'craft', 'intricate', 'latte', 'art', 'on', 'each', 'cup,', 'adding', 'a', 'touch', 'of', 'creativity', 'to', 'every', 'order.', 'This', 'little', 'haven', 'has', 'become', 'a', 'cherished', 'retreat', 'for', 'those', 'seeking', 'a', 'moment', 'of', 'respite', 'from', 'the', 'fast-paced', 'urban', 'life.']\n"
          ]
        }
      ]
    },
    {
      "cell_type": "code",
      "source": [
        "# Use list comprehension to remove the set of updated stop words from the list of words\n",
        "l=[word for word in words if word.lower() not in newstop_words]\n",
        "print(l)"
      ],
      "metadata": {
        "id": "Kk665UtXY3UH",
        "colab": {
          "base_uri": "https://localhost:8080/"
        },
        "outputId": "bbb3ae3d-e535-4de9-ee28-1fe207223c26"
      },
      "execution_count": 14,
      "outputs": [
        {
          "output_type": "stream",
          "name": "stdout",
          "text": [
            "['heart', 'bustling', 'city,', 'quaint', 'coffee', 'shop', 'exudes', 'warmth', 'coziness.', 'aroma', 'freshly', 'ground', 'coffee', 'beans', 'fills', 'air,', 'enticing', 'passersby', 'step', 'inside.', 'Soft', 'jazz', 'music', 'plays', 'background,', 'creating', 'soothing', 'atmosphere.', 'Customers', 'sit', 'comfortably', 'plush', 'armchairs,', 'sipping', 'favorite', 'brews', 'engrossed', 'book', 'engaged', 'friendly', 'conversations.', 'baristas', 'behind', 'counter', 'skillfully', 'craft', 'intricate', 'latte', 'art', 'cup,', 'adding', 'touch', 'creativity', 'every', 'order.', 'little', 'haven', 'become', 'cherished', 'retreat', 'seeking', 'moment', 'respite', 'fast-paced', 'urban', 'life.']\n"
          ]
        }
      ]
    },
    {
      "cell_type": "code",
      "source": [
        "# Finally using the join() method, get the sentence without the stop words. Keep in mind that every word in the sentence will be separated by space\n",
        "new_sen=' '.join(l)\n",
        "# Print the modified sentence\n",
        "print(new_sen)"
      ],
      "metadata": {
        "id": "RzO-jDZVY6wD",
        "colab": {
          "base_uri": "https://localhost:8080/"
        },
        "outputId": "a94b357e-9963-4400-a45d-388b915ede07"
      },
      "execution_count": 15,
      "outputs": [
        {
          "output_type": "stream",
          "name": "stdout",
          "text": [
            "heart bustling city, quaint coffee shop exudes warmth coziness. aroma freshly ground coffee beans fills air, enticing passersby step inside. Soft jazz music plays background, creating soothing atmosphere. Customers sit comfortably plush armchairs, sipping favorite brews engrossed book engaged friendly conversations. baristas behind counter skillfully craft intricate latte art cup, adding touch creativity every order. little haven become cherished retreat seeking moment respite fast-paced urban life.\n"
          ]
        }
      ]
    }
  ]
}